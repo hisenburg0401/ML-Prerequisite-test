{
  "metadata": {
    "kernelspec": {
      "name": "python",
      "display_name": "Python (Pyodide)",
      "language": "python"
    },
    "language_info": {
      "codemirror_mode": {
        "name": "python",
        "version": 3
      },
      "file_extension": ".py",
      "mimetype": "text/x-python",
      "name": "python",
      "nbconvert_exporter": "python",
      "pygments_lexer": "ipython3",
      "version": "3.8"
    }
  },
  "nbformat_minor": 4,
  "nbformat": 4,
  "cells": [
    {
      "cell_type": "markdown",
      "source": "Using numpy generate a matrix of size 20X5 containing random numbers drawn uniformly from the range of 1 to 2. Using Pandas create a dataframe out of this matrix. Name the columns of the dataframe as “a”, “b”, “c”, “d”, “e”. Find the column with the highest standard deviation. Find the row with the lowest mean.\r\n",
      "metadata": {}
    },
    {
      "cell_type": "code",
      "source": "import numpy as np\nimport pandas as pd\n\nnp.random.seed(36)\nmatrix_data = np.random.uniform(1, 2, size=(20, 5))\n\ndf = pd.DataFrame(matrix_data, columns=['a', 'b', 'c', 'd', 'e'])\n\nprint(\"DataFrame:\")\nprint(df)\n\nmax_std_col = df.std().idxmax()\nprint(\"Column with the highest standard deviation:\", max_std_col)\n\nmin_mean_row = df.mean(axis=1).idxmin()\nprint(\"Row with the lowest mean:\")\nprint(df.loc[min_mean_row])\n",
      "metadata": {
        "trusted": true
      },
      "outputs": [
        {
          "name": "stdout",
          "text": "DataFrame:\n           a         b         c         d         e\n0   1.728507  1.601614  1.952181  1.143173  1.807359\n1   1.363215  1.186557  1.259151  1.629762  1.032561\n2   1.947232  1.904318  1.550130  1.197008  1.232033\n3   1.002366  1.226056  1.375343  1.452744  1.246079\n4   1.460127  1.210407  1.670889  1.451769  1.592685\n5   1.327012  1.223990  1.215618  1.171685  1.022679\n6   1.629069  1.531413  1.243392  1.524828  1.174228\n7   1.341936  1.998178  1.232437  1.025417  1.150733\n8   1.483185  1.353762  1.639769  1.419413  1.187010\n9   1.351765  1.482242  1.802009  1.402824  1.437993\n10  1.873042  1.196441  1.721717  1.680160  1.205423\n11  1.083013  1.207304  1.868844  1.716951  1.667637\n12  1.400279  1.077304  1.230904  1.201255  1.162120\n13  1.947135  1.250645  1.902852  1.771073  1.146951\n14  1.884430  1.075059  1.663762  1.632169  1.318217\n15  1.450715  1.786880  1.869081  1.712292  1.499993\n16  1.967180  1.334586  1.269983  1.561898  1.993271\n17  1.890240  1.124810  1.385494  1.423963  1.177752\n18  1.011134  1.771680  1.951172  1.254431  1.960615\n19  1.773805  1.834671  1.490503  1.937667  1.367405\nColumn with the highest standard deviation: a\nRow with the lowest mean:\na    1.327012\nb    1.223990\nc    1.215618\nd    1.171685\ne    1.022679\nName: 5, dtype: float64\n",
          "output_type": "stream"
        }
      ],
      "execution_count": 5
    },
    {
      "cell_type": "code",
      "source": "",
      "metadata": {
        "trusted": true
      },
      "outputs": [],
      "execution_count": null
    }
  ]
}