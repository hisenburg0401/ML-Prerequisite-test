{
  "metadata": {
    "kernelspec": {
      "name": "python",
      "display_name": "Python (Pyodide)",
      "language": "python"
    },
    "language_info": {
      "codemirror_mode": {
        "name": "python",
        "version": 3
      },
      "file_extension": ".py",
      "mimetype": "text/x-python",
      "name": "python",
      "nbconvert_exporter": "python",
      "pygments_lexer": "ipython3",
      "version": "3.8"
    }
  },
  "nbformat_minor": 4,
  "nbformat": 4,
  "cells": [
    {
      "cell_type": "markdown",
      "source": "Write a small piece of code to explain broadcasting in numpy.",
      "metadata": {}
    },
    {
      "cell_type": "markdown",
      "source": "Broadcasting is a feature in Numpy that allows the user to perform various operations between arrays of different shapes and size. Let us see 2 basic examples:",
      "metadata": {}
    },
    {
      "cell_type": "code",
      "source": "import numpy as np",
      "metadata": {
        "trusted": true
      },
      "outputs": [],
      "execution_count": 1
    },
    {
      "cell_type": "code",
      "source": "a = np.array([[3,7,8],[9,5,6],[2,4,1]])\nb = np.array([[10,20,30]])\n\nz= a+b\n\nprint(\"The original matrix is \")\nprint(a)\nprint(\"The new matrix is \")\nprint(z)",
      "metadata": {
        "trusted": true
      },
      "outputs": [
        {
          "name": "stdout",
          "text": "The original matrix is \n[[3 7 8]\n [9 5 6]\n [2 4 1]]\nThe new matrix is \n[[13 27 38]\n [19 25 36]\n [12 24 31]]\n",
          "output_type": "stream"
        }
      ],
      "execution_count": 6
    },
    {
      "cell_type": "markdown",
      "source": "We can see that even though the size were different with the help of broadcasting each row in a was added with the values of b.",
      "metadata": {}
    },
    {
      "cell_type": "code",
      "source": "#This even works with multiplication\na = np.array([[3,7,8],[9,5,6],[2,4,1]])\nb = 2\n\nz = a*b\n\nprint(\"The original matrix is \")\nprint(a)\nprint(\"The new matrix is \")\nprint(z)",
      "metadata": {
        "trusted": true
      },
      "outputs": [
        {
          "name": "stdout",
          "text": "The original matrix is \n[[3 7 8]\n [9 5 6]\n [2 4 1]]\nThe new matrix is \n[[ 6 14 16]\n [18 10 12]\n [ 4  8  2]]\n",
          "output_type": "stream"
        }
      ],
      "execution_count": 5
    },
    {
      "cell_type": "markdown",
      "source": "We can see that even though the size were different with the help of broadcasting each element was multiplied with the value of b.",
      "metadata": {}
    },
    {
      "cell_type": "code",
      "source": "",
      "metadata": {
        "trusted": true
      },
      "outputs": [],
      "execution_count": null
    }
  ]
}