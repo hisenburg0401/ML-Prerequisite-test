{
  "metadata": {
    "kernelspec": {
      "name": "python",
      "display_name": "Python (Pyodide)",
      "language": "python"
    },
    "language_info": {
      "codemirror_mode": {
        "name": "python",
        "version": 3
      },
      "file_extension": ".py",
      "mimetype": "text/x-python",
      "name": "python",
      "nbconvert_exporter": "python",
      "pygments_lexer": "ipython3",
      "version": "3.8"
    }
  },
  "nbformat_minor": 4,
  "nbformat": 4,
  "cells": [
    {
      "cell_type": "markdown",
      "source": "How many multiplications and additions do you need to perform a matrix multiplication between a (n, k) and (k, m) matrix? Explain.",
      "metadata": {}
    },
    {
      "cell_type": "markdown",
      "source": "Answer: For a matrix multiplication between (n,k) and (k,m) the resultant matrix formed will be of size (n,m).\nThus for each element in the resultant matrix we will require k multiplications and k-1 additions.\nSo in total n*m*k multiplications and n*m*(k-1) additions are required.",
      "metadata": {}
    },
    {
      "cell_type": "code",
      "source": "",
      "metadata": {
        "trusted": true
      },
      "outputs": [],
      "execution_count": null
    }
  ]
}