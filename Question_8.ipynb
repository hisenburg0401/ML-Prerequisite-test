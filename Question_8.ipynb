{
  "metadata": {
    "kernelspec": {
      "name": "python",
      "display_name": "Python (Pyodide)",
      "language": "python"
    },
    "language_info": {
      "codemirror_mode": {
        "name": "python",
        "version": 3
      },
      "file_extension": ".py",
      "mimetype": "text/x-python",
      "name": "python",
      "nbconvert_exporter": "python",
      "pygments_lexer": "ipython3",
      "version": "3.8"
    }
  },
  "nbformat_minor": 4,
  "nbformat": 4,
  "cells": [
    {
      "cell_type": "markdown",
      "source": "Create a Python nested dictionary to represent hierarchical information. We want to store record of students and their marks. Something like:\r\n\r\n2022\r\nBranch 1\r\nRoll Number: 1, Name: N, Marks:\r\nMaths: 100, English: 70 …\r\nBranch 2\r\n2023\r\nBranch 1\r\nBranch 2\r\n2024\r\nBranch 1\r\nBranch 2\r\n2025\r\nBranch 1\r\nBranch 2\nStore the same information using Python classes. We have an overall database which is a list of year objects. Each year contains a list of branches. Each branch contains a list of students. Each student has some properties like name, roll number and has marks in some subjects.",
      "metadata": {}
    },
    {
      "cell_type": "code",
      "source": "class Student:\n    def __init__(self, roll_number, name, marks):\n        self.roll_number = roll_number\n        self.name = name\n        self.marks = marks\n\nclass Branch:\n    def __init__(self, name):\n        self.name = name\n        self.students = []\n\nclass Year:\n    def __init__(self, year):\n        self.year = year\n        self.branches = []\n\nstudent_1 = Student(1, 'N', {'Maths': 100, 'English': 70})\nstudent_2 = Student(2, 'M', {'Maths': 90, 'English': 80})\nbranch_1_2022 = Branch('Branch 1')\nbranch_1_2022.students = [student_1, student_2]\nbranch_2_2022 = Branch('Branch 2')\nyear_2022 = Year(2022)\nyear_2022.branches = [branch_1_2022, branch_2_2022]\n\n\nstudent_3 = Student(3, 'N', {'Maths': 100, 'English': 70})\nstudent_4 = Student(4, 'M', {'Maths': 90, 'English': 80})\nbranch_1_2023 = Branch('Branch 1')\nbranch_1_2023.students = [student_3, student_4]\nbranch_2_2023 = Branch('Branch 2')\nyear_2023 = Year(2023)\nyear_2023.branches = [branch_1_2023, branch_2_2023]\n\n\nstudent_5 = Student(5, 'N', {'Maths': 100, 'English': 70})\nstudent_6 = Student(6, 'M', {'Maths': 90, 'English': 80})\nbranch_1_2024 = Branch('Branch 1')\nbranch_1_2024.students = [student_5, student_6]\nbranch_2_2024 = Branch('Branch 2')\nyear_2024 = Year(2024)\nyear_2024.branches = [branch_1_2024, branch_2_2024]\n\n\nstudent_7 = Student(7, 'N', {'Maths': 100, 'English': 70})\nstudent_8 = Student(8, 'M', {'Maths': 90, 'English': 80})\nbranch_1_2025 = Branch('Branch 1')\nbranch_1_2025.students = [student_7, student_8]\nbranch_2_2025 = Branch('Branch 2')\nyear_2025 = Year(2025)\nyear_2025.branches = [branch_1_2025, branch_2_2025]\n\ndatabase = [year_2022, Year(2023), Year(2024), Year(2025)]",
      "metadata": {
        "trusted": true
      },
      "outputs": [],
      "execution_count": 1
    },
    {
      "cell_type": "code",
      "source": "",
      "metadata": {
        "trusted": true
      },
      "outputs": [],
      "execution_count": null
    }
  ]
}