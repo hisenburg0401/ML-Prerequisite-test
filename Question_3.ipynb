{
  "metadata": {
    "kernelspec": {
      "name": "python",
      "display_name": "Python (Pyodide)",
      "language": "python"
    },
    "language_info": {
      "codemirror_mode": {
        "name": "python",
        "version": 3
      },
      "file_extension": ".py",
      "mimetype": "text/x-python",
      "name": "python",
      "nbconvert_exporter": "python",
      "pygments_lexer": "ipython3",
      "version": "3.8"
    }
  },
  "nbformat_minor": 4,
  "nbformat": 4,
  "cells": [
    {
      "cell_type": "markdown",
      "source": "Finding the highest element in a list requires one pass of the array. Finding the second highest element requires 2 passes of the the array. Using this method, what is the time complexity of finding the median of the array? Can you suggest a better method? Can you implement both these methods in Python and compare against numpy.median routine in terms of time?",
      "metadata": {}
    },
    {
      "cell_type": "markdown",
      "source": "If we use the pass method then:\n1) With each pass we can find the highest element present in the array and each was can be counted as a single n operations\n2) Since we have \"n\" elements present in the array, the total time complexity will come out to be O($n^2$)\n\nWe can also make use of another alogorithm mentioned below",
      "metadata": {}
    },
    {
      "cell_type": "code",
      "source": "import random\nimport time\n\nstart = time.time()\ndef partition(arr, low, high):\n    pivot_index = random.randint(low, high)\n    arr[pivot_index], arr[high] = arr[high], arr[pivot_index]\n    pivot = arr[high]\n    i = low - 1\n\n    for j in range(low, high):\n        if arr[j] <= pivot:\n            i += 1\n            arr[i], arr[j] = arr[j], arr[i]\n\n    arr[i + 1], arr[high] = arr[high], arr[i + 1]\n    return i + 1\n\ndef quickselect(arr, low, high, k):\n    if low <= high:\n        pivot_index = partition(arr, low, high)\n\n        if pivot_index == k:\n            return arr[pivot_index]\n        elif pivot_index < k:\n            return quickselect(arr, pivot_index + 1, high, k)\n        else:\n            return quickselect(arr, low, pivot_index - 1, k)\n\ndef find_median_quickselect(arr):\n    n = len(arr)\n    if n % 2 == 1:\n        return quickselect(arr, 0, n - 1, n // 2)\n    else:\n        left = quickselect(arr, 0, n - 1, n // 2 - 1)\n        right = quickselect(arr, 0, n - 1, n // 2)\n        return (left + right) / 2\n",
      "metadata": {
        "trusted": true
      },
      "outputs": [],
      "execution_count": 1
    },
    {
      "cell_type": "code",
      "source": "import numpy as np\nimport time\nimport random\n\nrandom_elements = [random.random() for _ in range(100)]\nprint(random_elements)\n\nstart= time.time()\nresult = find_median_quickselect(arr)\nend= time.time()\nprint(\"Median using quickselect = \", result)\nprint(\"Time taken using quickselect = \",end-start,\"seconds\")\n\nstart= time.time()\nresult1 = np.median(arr)\nend= time.time()\nprint(\"Median using NumPy= \", result1)\nprint(\"Time taken using NumPy = \",end-start,\"seconds\")",
      "metadata": {
        "trusted": true
      },
      "outputs": [
        {
          "name": "stdout",
          "text": "Median using quickselect =  53.5\nTime taken using quickselect =  0.0 seconds\nMedian using NumPy=  53.5\nTime taken using NumPy =  0.0 seconds\n",
          "output_type": "stream"
        }
      ],
      "execution_count": 3
    },
    {
      "cell_type": "code",
      "source": "",
      "metadata": {
        "trusted": true
      },
      "outputs": [],
      "execution_count": null
    }
  ]
}