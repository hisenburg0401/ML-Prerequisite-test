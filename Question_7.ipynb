{
  "metadata": {
    "kernelspec": {
      "name": "python",
      "display_name": "Python (Pyodide)",
      "language": "python"
    },
    "language_info": {
      "codemirror_mode": {
        "name": "python",
        "version": 3
      },
      "file_extension": ".py",
      "mimetype": "text/x-python",
      "name": "python",
      "nbconvert_exporter": "python",
      "pygments_lexer": "ipython3",
      "version": "3.8"
    }
  },
  "nbformat_minor": 4,
  "nbformat": 4,
  "cells": [
    {
      "cell_type": "markdown",
      "source": "Create a Python nested dictionary to represent hierarchical information. We want to store record of students and their marks. Something like:\r\n\r\n2022\r\nBranch 1\r\nRoll Number: 1, Name: N, Marks:\r\nMaths: 100, English: 70 …\r\nBr\nanch 2\r\n2023\r\nBranch 1\r\n\nBranch 2\r\n2024\r\nBranch\n 1\r\nBranch 2\r\n2025\r\nBranch 1\r\nBranch 2\n",
      "metadata": {}
    },
    {
      "cell_type": "code",
      "source": "data = {\n    2022: {\n        'Branch 1': {\n            'Roll Number': 1,\n            'Name': 'N',\n            'Marks': {\n                'Maths': 100,\n                'English': 70,\n                'Physics': 100,\n                'Chemistry': 100,\n            }\n        },\n        'Branch 2': {\n            'Roll Number': 2,\n            'Name': 'M',\n            'Marks': {\n                'Maths': 100,\n                'English': 100,\n                'Physics': 100,\n                'Chemistry': 100,\n            }\n        }\n    },\n    2023: {\n        'Branch 1': {\n            'Roll Number': 3,\n            'Name': 'N',\n            'Marks': {\n                'Maths': 100,\n                'English': 70,\n                'Physics': 100,\n                'Chemistry': 100,\n            }\n        },\n        'Branch 2': {\n            'Roll Number': 4,\n            'Name': 'M',\n            'Marks': {\n                'Maths': 100,\n                'English': 100,\n                'Physics': 100,\n                'Chemistry': 100,\n            }\n        }\n    },\n    2024: {\n        'Branch 1': {\n            'Roll Number': 5,\n            'Name': 'N',\n            'Marks': {\n                'Maths': 100,\n                'English': 70,\n                'Physics': 100,\n                'Chemistry': 100,\n            }\n        },\n        'Branch 2': {\n            'Roll Number': 6,\n            'Name': 'M',\n            'Marks': {\n                'Maths': 100,\n                'English': 100,\n                'Physics': 100,\n                'Chemistry': 100,\n            }\n        }\n    },\n    2025: {\n        'Branch 1': {\n            'Roll Number': 7,\n            'Name': 'N',\n            'Marks': {\n                'Maths': 100,\n                'English': 70,\n                'Physics': 100,\n                'Chemistry': 100,\n            }\n        },\n        'Branch 2': {\n            'Roll Number': 8,\n            'Name': 'M',\n            'Marks': {\n                'Maths': 100,\n                'English': 100,\n                'Physics': 100,\n                'Chemistry': 100,\n            }\n        }\n    },\n}",
      "metadata": {
        "trusted": true
      },
      "outputs": [],
      "execution_count": 8
    },
    {
      "cell_type": "code",
      "source": "",
      "metadata": {
        "trusted": true
      },
      "outputs": [],
      "execution_count": null
    }
  ]
}