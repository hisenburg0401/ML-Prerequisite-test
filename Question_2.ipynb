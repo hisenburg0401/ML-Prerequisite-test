{
  "metadata": {
    "kernelspec": {
      "name": "python",
      "display_name": "Python (Pyodide)",
      "language": "python"
    },
    "language_info": {
      "codemirror_mode": {
        "name": "python",
        "version": 3
      },
      "file_extension": ".py",
      "mimetype": "text/x-python",
      "name": "python",
      "nbconvert_exporter": "python",
      "pygments_lexer": "ipython3",
      "version": "3.8"
    }
  },
  "nbformat_minor": 4,
  "nbformat": 4,
  "cells": [
    {
      "cell_type": "markdown",
      "source": "Write Python code to multiply the above two matrices. \nSolve using list of lists and then use numpy. \nCompare the timing of both solutions. Which one is faster? Why?",
      "metadata": {}
    },
    {
      "cell_type": "code",
      "source": "#Let us take 2 matrix of size 3x3 named A and B. Also there multiplication is named as AxB for list of list method\nimport time\nimport numpy as np",
      "metadata": {
        "trusted": true
      },
      "outputs": [],
      "execution_count": 1
    },
    {
      "cell_type": "code",
      "source": "start = time.time()\nA = [[3,7,8],[9,5,6],[2,4,1]]\nB = [[13,17,18],[19,15,16],[12,14,11]]\nAxB = [[0,0,0],[0,0,0],[0,0,0]]",
      "metadata": {
        "trusted": true
      },
      "outputs": [],
      "execution_count": 2
    },
    {
      "cell_type": "code",
      "source": "ar = len(A)\nac = len(A[0])\nbr = len(B)\nbc = len(B[0])",
      "metadata": {
        "trusted": true
      },
      "outputs": [],
      "execution_count": 3
    },
    {
      "cell_type": "code",
      "source": "if (ac==br):\n    for i in range(len(A)):\n        for j in range(len(B[0])):\n            for k in range(len(B)):\n                AxB[i][j] += A[i][k] * B[k][j]\n    for g in AxB:\n        print(g)\nelse:\n    print(\"Matrix Multiplication AxB not possible\")\nend = time.time()\n\nprint(\"Time Taken by the list of list method = \",end - start)",
      "metadata": {
        "trusted": true,
        "scrolled": true
      },
      "outputs": [
        {
          "name": "stdout",
          "text": "[268, 268, 254]\n[284, 312, 308]\n[114, 108, 111]\nTime Taken by the list of list method =  0.019999980926513672\n",
          "output_type": "stream"
        }
      ],
      "execution_count": 4
    },
    {
      "cell_type": "code",
      "source": "#Let us take 2 matrix of size 3x3 named P and Q. Also there multiplication is named as PxQ for numpy method",
      "metadata": {
        "trusted": true
      },
      "outputs": [],
      "execution_count": 5
    },
    {
      "cell_type": "code",
      "source": "start = time.time()\nP = [[3,7,8],[9,5,6],[2,4,1]]\nQ = [[13,17,18],[19,15,16],[12,14,11]]",
      "metadata": {
        "trusted": true
      },
      "outputs": [],
      "execution_count": 6
    },
    {
      "cell_type": "code",
      "source": "PxQ = np.dot(P,Q)\nfor g in PxQ:\n    print(g)\nend = time.time()\nprint(\"Time Taken by the numpy method = \",end - start)",
      "metadata": {
        "trusted": true
      },
      "outputs": [
        {
          "name": "stdout",
          "text": "[268 268 254]\n[284 312 308]\n[114 108 111]\nTime Taken by the numpy method =  0.006999969482421875\n",
          "output_type": "stream"
        }
      ],
      "execution_count": 7
    },
    {
      "cell_type": "markdown",
      "source": "From the above part we can clearly see that the time taken by the numpy method is very less compared to the list of list method.\n1) This is because Numpy makes use of fragmentation i.e. it divided the task into fragments and then runs all the fragments simultaneously\n2) Also Numpy makes use of lanuguages such as C, C++ and Fortan which has a very less execution time compared to Python",
      "metadata": {}
    }
  ]
}