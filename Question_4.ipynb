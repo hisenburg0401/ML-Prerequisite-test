{
  "metadata": {
    "kernelspec": {
      "name": "python",
      "display_name": "Python (Pyodide)",
      "language": "python"
    },
    "language_info": {
      "codemirror_mode": {
        "name": "python",
        "version": 3
      },
      "file_extension": ".py",
      "mimetype": "text/x-python",
      "name": "python",
      "nbconvert_exporter": "python",
      "pygments_lexer": "ipython3",
      "version": "3.8"
    }
  },
  "nbformat_minor": 4,
  "nbformat": 4,
  "cells": [
    {
      "cell_type": "markdown",
      "source": "What is the gradient of the following function with respect to x and y?\n$(x^2)y + (y^3)sin(x)$",
      "metadata": {}
    },
    {
      "cell_type": "markdown",
      "source": "The gradient of the following function with respect to x is\n$2xy + (y^3)cos(x)$",
      "metadata": {}
    },
    {
      "cell_type": "markdown",
      "source": "The gradient of the following function with respect to y is\n$(x^2) + (3y^2)sin(x)$",
      "metadata": {}
    }
  ]
}