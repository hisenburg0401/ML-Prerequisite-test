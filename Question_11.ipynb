{
  "metadata": {
    "kernelspec": {
      "name": "python",
      "display_name": "Python (Pyodide)",
      "language": "python"
    },
    "language_info": {
      "codemirror_mode": {
        "name": "python",
        "version": 3
      },
      "file_extension": ".py",
      "mimetype": "text/x-python",
      "name": "python",
      "nbconvert_exporter": "python",
      "pygments_lexer": "ipython3",
      "version": "3.8"
    }
  },
  "nbformat_minor": 4,
  "nbformat": 4,
  "cells": [
    {
      "cell_type": "markdown",
      "source": "Add a new column to the dataframe called “f” which is the sum of the columns “a”, “b”, “c”, “d”, “e”. Create another column called “g”. The value in the column “g” should be “LT8” if the value in the column “f” is less than 8 and “GT8” otherwise. Find the number of rows in the dataframe where the value in the column “g” is “LT8”. Find the standard deviation of the column “f” for the rows where the value in the column “g” is “LT8” and “GT8” respectively.",
      "metadata": {}
    },
    {
      "cell_type": "code",
      "source": "import numpy as np\nimport pandas as pd\n\nnp.random.seed(36)\nmatrix_data = np.random.uniform(1, 2, size=(20, 5))\n\ndf = pd.DataFrame(matrix_data, columns=['a', 'b', 'c', 'd', 'e'])\n\ndf[\"f\"] = df[[\"a\", \"b\", \"c\", \"d\", \"e\"]].sum(axis=1)\ndf[\"g\"] = np.where(df[\"f\"] < 8, \"LT8\", \"GT8\")\n\nlt8_count = df[df[\"g\"] == \"LT8\"].shape[0]\nlt8_std = df[df[\"g\"] == \"LT8\"][\"f\"].std()\ngt8_std = df[df[\"g\"] == \"GT8\"][\"f\"].std()\n\nprint(\"DataFrame:\")\nprint(df)\n\nlt8_rows_count = len(df[df['g'] == 'LT8'])\nprint(\"Number of rows where the value in column 'g' is 'LT8':\", lt8_rows_count)\n\nstd_lt8 = df.loc[df['g'] == 'LT8', 'f'].std()\nprint(\"Standard deviation of column 'f' for rows where 'g' is 'LT8':\", std_lt8)\n\nstd_gt8 = df.loc[df['g'] == 'GT8', 'f'].std()\nprint(\"Standard deviation of column 'f' for rows where 'g' is 'GT8':\", std_gt8)\n",
      "metadata": {
        "trusted": true
      },
      "outputs": [
        {
          "name": "stdout",
          "text": "DataFrame:\n           a         b         c         d         e         f    g\n0   1.728507  1.601614  1.952181  1.143173  1.807359  8.232835  GT8\n1   1.363215  1.186557  1.259151  1.629762  1.032561  6.471246  LT8\n2   1.947232  1.904318  1.550130  1.197008  1.232033  7.830722  LT8\n3   1.002366  1.226056  1.375343  1.452744  1.246079  6.302588  LT8\n4   1.460127  1.210407  1.670889  1.451769  1.592685  7.385876  LT8\n5   1.327012  1.223990  1.215618  1.171685  1.022679  5.960985  LT8\n6   1.629069  1.531413  1.243392  1.524828  1.174228  7.102930  LT8\n7   1.341936  1.998178  1.232437  1.025417  1.150733  6.748701  LT8\n8   1.483185  1.353762  1.639769  1.419413  1.187010  7.083139  LT8\n9   1.351765  1.482242  1.802009  1.402824  1.437993  7.476832  LT8\n10  1.873042  1.196441  1.721717  1.680160  1.205423  7.676782  LT8\n11  1.083013  1.207304  1.868844  1.716951  1.667637  7.543750  LT8\n12  1.400279  1.077304  1.230904  1.201255  1.162120  6.071862  LT8\n13  1.947135  1.250645  1.902852  1.771073  1.146951  8.018656  GT8\n14  1.884430  1.075059  1.663762  1.632169  1.318217  7.573637  LT8\n15  1.450715  1.786880  1.869081  1.712292  1.499993  8.318960  GT8\n16  1.967180  1.334586  1.269983  1.561898  1.993271  8.126918  GT8\n17  1.890240  1.124810  1.385494  1.423963  1.177752  7.002260  LT8\n18  1.011134  1.771680  1.951172  1.254431  1.960615  7.949032  LT8\n19  1.773805  1.834671  1.490503  1.937667  1.367405  8.404051  GT8\nNumber of rows where the value in column 'g' is 'LT8': 15\nStandard deviation of column 'f' for rows where 'g' is 'LT8': 0.6405649169499134\nStandard deviation of column 'f' for rows where 'g' is 'GT8': 0.15250881698626603\n",
          "output_type": "stream"
        }
      ],
      "execution_count": 1
    },
    {
      "cell_type": "code",
      "source": "",
      "metadata": {
        "trusted": true
      },
      "outputs": [],
      "execution_count": null
    }
  ]
}